{
 "cells": [
  {
   "cell_type": "code",
   "execution_count": 1,
   "metadata": {},
   "outputs": [],
   "source": [
    "\n",
    "\"\"\" \n",
    "    This is the code to accompany the Lesson 2 (SVM) mini-project.\n",
    "\n",
    "    Use a SVM to identify emails from the Enron corpus by their authors:    \n",
    "    Sara has label 0\n",
    "    Chris has label 1\n",
    "\"\"\"\n",
    "    \n",
    "import sys\n",
    "from time import time\n",
    "sys.path.append(\"../tools/\")\n",
    "from email_preprocess import preprocess\n",
    "from sklearn import svm\n"
   ]
  },
  {
   "cell_type": "code",
   "execution_count": 3,
   "metadata": {},
   "outputs": [
    {
     "name": "stdout",
     "output_type": "stream",
     "text": [
      "No. of Chris training emails :  7936\n",
      "No. of Sara training emails :  7884\n"
     ]
    }
   ],
   "source": [
    "\n",
    "### features_train and features_test are the features for the training\n",
    "### and testing datasets, respectively\n",
    "### labels_train and labels_test are the corresponding item labels\n",
    "features_train, features_test, labels_train, labels_test = preprocess()\n"
   ]
  },
  {
   "cell_type": "code",
   "execution_count": 5,
   "metadata": {},
   "outputs": [
    {
     "name": "stdout",
     "output_type": "stream",
     "text": [
      "Fit Time: 0.021 s\n"
     ]
    }
   ],
   "source": [
    "\n",
    "\n",
    "\n",
    "#########################################################\n",
    "### your code goes here ###\n",
    "# clf = svm.SVC(kernel='linear')\n",
    "# t0 = time()\n",
    "# clf.fit(features_train,labels_train)\n",
    "# print(\"Fit Time:\", round(time()-t0, 3), \"s\")\n",
    "\n",
    "# t0 = time()\n",
    "# clf.predict(features_test)\n",
    "# print(\"Predict Time:\", round(time()-t0, 3), \"s\")\n",
    "\n",
    "# print(clf.score(features_test,labels_test))\n",
    "\n",
    "#########################################################\n",
    "\n",
    "#########################################################\n",
    "'''\n",
    "You'll be Provided similar code in the Quiz\n",
    "But the Code provided in Quiz has an Indexing issue\n",
    "The Code Below solves that issue, So use this one\n",
    "'''\n",
    "\n",
    "features_train = features_train[:int(len(features_train)/100)]\n",
    "labels_train = labels_train[:int(len(labels_train)/100)]\n",
    "\n",
    "clf = svm.SVC(kernel='rbf',C=10000)\n",
    "t0 = time()\n",
    "clf.fit(features_train,labels_train)\n",
    "print(\"Fit Time:\", round(time()-t0, 3), \"s\")\n"
   ]
  },
  {
   "cell_type": "code",
   "execution_count": 6,
   "metadata": {},
   "outputs": [
    {
     "name": "stdout",
     "output_type": "stream",
     "text": [
      "Predict Time: 0.462 s\n",
      "0.8998862343572241\n"
     ]
    }
   ],
   "source": [
    "\n",
    "t0 = time()\n",
    "clf.predict(features_test)\n",
    "print(\"Predict Time:\", round(time()-t0, 3), \"s\")\n",
    "\n",
    "print(clf.score(features_test,labels_test))\n",
    "\n",
    "#########################################################"
   ]
  },
  {
   "cell_type": "code",
   "execution_count": 12,
   "metadata": {},
   "outputs": [
    {
     "data": {
      "text/plain": [
       "array([1, 0, 1])"
      ]
     },
     "execution_count": 12,
     "metadata": {},
     "output_type": "execute_result"
    }
   ],
   "source": [
    "clf.predict(features_test)[[10,26,50]]"
   ]
  },
  {
   "cell_type": "code",
   "execution_count": 15,
   "metadata": {},
   "outputs": [
    {
     "data": {
      "text/plain": [
       "931"
      ]
     },
     "execution_count": 15,
     "metadata": {},
     "output_type": "execute_result"
    }
   ],
   "source": [
    "predictions = clf.predict(features_test)\n",
    "import numpy as np\n",
    "np.count_nonzero(predictions)"
   ]
  },
  {
   "cell_type": "code",
   "execution_count": null,
   "metadata": {},
   "outputs": [],
   "source": []
  }
 ],
 "metadata": {
  "kernelspec": {
   "display_name": "Python 3",
   "language": "python",
   "name": "python3"
  },
  "language_info": {
   "codemirror_mode": {
    "name": "ipython",
    "version": 3
   },
   "file_extension": ".py",
   "mimetype": "text/x-python",
   "name": "python",
   "nbconvert_exporter": "python",
   "pygments_lexer": "ipython3",
   "version": "3.10.8"
  }
 },
 "nbformat": 4,
 "nbformat_minor": 2
}
